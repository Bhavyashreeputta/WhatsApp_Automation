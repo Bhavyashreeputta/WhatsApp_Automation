{
 "cells": [
  {
   "cell_type": "code",
   "execution_count": 1,
   "metadata": {},
   "outputs": [],
   "source": [
    "#importing all necessary modules \n",
    "import random\n",
    "from selenium import webdriver\n",
    "from selenium.webdriver.support.ui import WebDriverWait\n",
    "from selenium.webdriver.support import expected_conditions as EC\n",
    "from selenium.webdriver.common.keys import Keys\n",
    "from selenium.webdriver.common.by import By"
   ]
  },
  {
   "cell_type": "code",
   "execution_count": 2,
   "metadata": {},
   "outputs": [],
   "source": [
    "driver = webdriver.Chrome(\"D:\\chromedriver.exe\")"
   ]
  },
  {
   "cell_type": "code",
   "execution_count": 3,
   "metadata": {},
   "outputs": [],
   "source": [
    "driver.get(\"https://web.whatsapp.com\")"
   ]
  },
  {
   "cell_type": "code",
   "execution_count": 4,
   "metadata": {},
   "outputs": [],
   "source": [
    "#declaring a list with multiple strings and selected messages using random modules\n",
    "lst = [\"Have a nice day :)\", \"Be Good To Yourself ●'◡'●\", \"Be patient :-)\", \"Let it go ^_^\", \"Never Give Up ●'◡'●\", \"Have faith\",\n",
    "       \"Listen with love\",\"Dont Give Up ^_~\", \" Trust your gut\",\"Turn pain into purpose\",\"Be Unstoppable\",\"Be decesive\",\n",
    "      \"Move On\", \"Trust the process\",\"Own who you are\",\"Appreciate progress\"]\n",
    "text = \"This is for you (❁´◡`❁)\""
   ]
  },
  {
   "cell_type": "code",
   "execution_count": 5,
   "metadata": {},
   "outputs": [],
   "source": [
    "#declearing a list of contacts and storing the name in target\n",
    "names = ['\"Dholu\"', '\"Guna\"','\"Ankush\"','\"4 Dyudes\"','\"Jayanth\"','\"Harshitha\"']\n",
    "target = names[random.randint(0,len(names)-1)]"
   ]
  },
  {
   "cell_type": "code",
   "execution_count": 6,
   "metadata": {},
   "outputs": [],
   "source": [
    "wait = WebDriverWait(driver, 600)"
   ]
  },
  {
   "cell_type": "code",
   "execution_count": 7,
   "metadata": {},
   "outputs": [],
   "source": [
    "xpath = '//span[contains(@title,'+target+')]'"
   ]
  },
  {
   "cell_type": "code",
   "execution_count": 8,
   "metadata": {},
   "outputs": [],
   "source": [
    "#selecting the contact which is specified in target\n",
    "target = wait.until(EC.presence_of_element_located((By.XPATH, xpath)))\n",
    "target.click()"
   ]
  },
  {
   "cell_type": "code",
   "execution_count": 9,
   "metadata": {},
   "outputs": [],
   "source": [
    "#selecting the text box and sending the message\n",
    "input_box = driver.find_element_by_xpath('/html/body/div/div[1]/div[1]/div[4]/div[1]/footer/div[1]/div[2]/div/div[1]/div/div[2]')\n",
    "\n",
    "#sending a single messages at a time \n",
    "input_box.send_keys(text+\"\\n\"+lst[random.randint(0,15)]+\" \"+Keys.ENTER)"
   ]
  },
  {
   "cell_type": "code",
   "execution_count": 10,
   "metadata": {},
   "outputs": [],
   "source": [
    "#sending messages to a specified contact multiple times\n",
    "input_box.send_keys(text+\" \"+Keys.ENTER)\n",
    "for i in range(5):\n",
    "    input_box.send_keys(lst[random.randint(0, 15)]+\" \"+Keys.ENTER)"
   ]
  },
  {
   "cell_type": "code",
   "execution_count": 13,
   "metadata": {},
   "outputs": [],
   "source": [
    "#sending stickers\n",
    "emoji_menu = driver.find_element_by_xpath('/html/body/div/div[1]/div[1]/div[4]/div[1]/footer/div[1]/div[1]/div[1]')\n",
    "emoji_menu.click()\n",
    "\n",
    "#selecting sticker menu\n",
    "sticker = driver.find_element_by_xpath('/html/body/div/div[1]/div[1]/div[4]/div[1]/footer/div[1]/div[1]/div[1]/button[4]')\n",
    "sticker.click()\n",
    "\n",
    "#selecting the collection type\n",
    "collection = driver.find_element_by_xpath('/html/body/div/div[1]/div[1]/div[4]/div[1]/footer/div[1]/div[1]/div[1]/button[4]')\n",
    "collection.click()\n",
    "\n",
    "#sending the selected stickers\n",
    "sticker_1 = driver.find_element_by_xpath('/html/body/div/div[1]/div[1]/div[4]/div[1]/footer/div[2]/div/div[3]/div[1]/div/div[1]/div[1]/div/div/div[1]')\n",
    "sticker_1.click()"
   ]
  },
  {
   "cell_type": "code",
   "execution_count": 14,
   "metadata": {},
   "outputs": [],
   "source": [
    "#sending more than 1 sticker using loops\n",
    "for i in range(1,6):\n",
    "    sticker_1 = driver.find_element_by_xpath('/html/body/div/div[1]/div[1]/div[4]/div[1]/footer/div[2]/div/div[3]/div[1]/div/div[1]/div[2]/div/div['+str(i)+']')\n",
    "    sticker_1.click()"
   ]
  },
  {
   "cell_type": "code",
   "execution_count": 15,
   "metadata": {},
   "outputs": [],
   "source": [
    "#sending emojis\n",
    "menu = driver.find_element_by_xpath('/html/body/div/div[1]/div[1]/div[4]/div[1]/footer/div[1]/div[1]/div[1]/button[2]')\n",
    "menu.click()\n",
    "\n",
    "emojis = driver.find_element_by_xpath(\"/html/body/div/div[1]/div[1]/div[4]/div[1]/footer/div[1]/div[1]/div[1]/button[2]\")\n",
    "emojis.click()\n",
    "\n",
    "e_collection = driver.find_element_by_xpath(\"/html/body/div/div[1]/div[1]/div[4]/div[1]/footer/div[2]/div/div[3]/div[1]/div/div[1]/div[1]/div/div[3]\")\n",
    "e_collection.click()\n",
    "\n",
    "emoji_1 = driver.find_element_by_xpath('//*[@id=\"main\"]/footer/div[2]/div/div[3]/div[1]/div/div[1]/div[2]/div/div/div/div[1]/div/div[7]/div/div/div/span[2]')\n",
    "emoji_1.click()\n"
   ]
  },
  {
   "cell_type": "markdown",
   "metadata": {},
   "source": [
    "Installing pywhatkit and sending messages at a specified time"
   ]
  },
  {
   "cell_type": "code",
   "execution_count": 1,
   "metadata": {
    "scrolled": false
   },
   "outputs": [
    {
     "name": "stdout",
     "output_type": "stream",
     "text": [
      "Collecting pywhatkit\n",
      "  Using cached pywhatkit-5.0-py3-none-any.whl (12 kB)\n",
      "Collecting pyautogui\n",
      "  Using cached PyAutoGUI-0.9.53.tar.gz (59 kB)\n",
      "Requirement already satisfied: requests in c:\\programdata\\anaconda3\\lib\\site-packages (from pywhatkit) (2.24.0)\n",
      "Requirement already satisfied: Pillow in c:\\programdata\\anaconda3\\lib\\site-packages (from pywhatkit) (7.2.0)\n",
      "Collecting wikipedia\n",
      "  Using cached wikipedia-1.4.0.tar.gz (27 kB)\n",
      "Collecting pymsgbox\n",
      "  Using cached PyMsgBox-1.0.9.tar.gz (18 kB)\n",
      "  Installing build dependencies: started\n",
      "  Installing build dependencies: finished with status 'done'\n",
      "  Getting requirements to build wheel: started\n",
      "  Getting requirements to build wheel: finished with status 'done'\n",
      "    Preparing wheel metadata: started\n",
      "    Preparing wheel metadata: finished with status 'done'\n",
      "Collecting PyTweening>=1.0.1\n",
      "  Using cached PyTweening-1.0.3.zip (15 kB)\n",
      "Collecting pyscreeze>=0.1.21\n",
      "  Downloading PyScreeze-0.1.27.tar.gz (25 kB)\n",
      "  Installing build dependencies: started\n",
      "  Installing build dependencies: finished with status 'done'\n",
      "  Getting requirements to build wheel: started\n",
      "  Getting requirements to build wheel: finished with status 'done'\n",
      "    Preparing wheel metadata: started\n",
      "    Preparing wheel metadata: finished with status 'done'\n",
      "Collecting pygetwindow>=0.0.5\n",
      "  Downloading PyGetWindow-0.0.9.tar.gz (9.7 kB)\n",
      "Collecting mouseinfo\n",
      "  Downloading MouseInfo-0.1.3.tar.gz (10 kB)\n",
      "Requirement already satisfied: urllib3!=1.25.0,!=1.25.1,<1.26,>=1.21.1 in c:\\programdata\\anaconda3\\lib\\site-packages (from requests->pywhatkit) (1.25.9)\n",
      "Requirement already satisfied: certifi>=2017.4.17 in c:\\programdata\\anaconda3\\lib\\site-packages (from requests->pywhatkit) (2020.6.20)\n",
      "Requirement already satisfied: chardet<4,>=3.0.2 in c:\\programdata\\anaconda3\\lib\\site-packages (from requests->pywhatkit) (3.0.4)\n",
      "Requirement already satisfied: idna<3,>=2.5 in c:\\programdata\\anaconda3\\lib\\site-packages (from requests->pywhatkit) (2.10)\n",
      "Requirement already satisfied: beautifulsoup4 in c:\\programdata\\anaconda3\\lib\\site-packages (from wikipedia->pywhatkit) (4.9.1)\n",
      "Collecting pyrect\n",
      "  Downloading PyRect-0.1.4.tar.gz (15 kB)\n",
      "Collecting pyperclip\n",
      "  Downloading pyperclip-1.8.2.tar.gz (20 kB)\n",
      "Requirement already satisfied: soupsieve>1.2 in c:\\programdata\\anaconda3\\lib\\site-packages (from beautifulsoup4->wikipedia->pywhatkit) (2.0.1)\n",
      "Building wheels for collected packages: pyautogui, wikipedia, pymsgbox, PyTweening, pyscreeze, pygetwindow, mouseinfo, pyrect, pyperclip\n",
      "  Building wheel for pyautogui (setup.py): started\n",
      "  Building wheel for pyautogui (setup.py): finished with status 'done'\n",
      "  Created wheel for pyautogui: filename=PyAutoGUI-0.9.53-py3-none-any.whl size=36588 sha256=6907f6c9567bdd465cb37f4c345dad7505771825c2f569ff3de2f6b8e878c75c\n",
      "  Stored in directory: c:\\users\\tech\\appdata\\local\\pip\\cache\\wheels\\54\\04\\f7\\55704a9d374ed923785a4fdc0ef00151fa25306b3b93345532\n",
      "  Building wheel for wikipedia (setup.py): started\n",
      "  Building wheel for wikipedia (setup.py): finished with status 'done'\n",
      "  Created wheel for wikipedia: filename=wikipedia-1.4.0-py3-none-any.whl size=11689 sha256=847b0119bce5561ef90b201c760e7313e14a6c19bff9eb9be31d54a885a957f3\n",
      "  Stored in directory: c:\\users\\tech\\appdata\\local\\pip\\cache\\wheels\\07\\93\\05\\72c05349177dca2e0ba31a33ba4f7907606f7ddef303517c6a\n",
      "  Building wheel for pymsgbox (PEP 517): started\n",
      "  Building wheel for pymsgbox (PEP 517): finished with status 'done'\n",
      "  Created wheel for pymsgbox: filename=PyMsgBox-1.0.9-py3-none-any.whl size=7420 sha256=33e02a02690979425153e200545822cde449f605cb1208de5b6b5265d3481662\n",
      "  Stored in directory: c:\\users\\tech\\appdata\\local\\pip\\cache\\wheels\\91\\28\\0d\\f4eb606d38276836237d6dc2abf094241e6db5682a126e0389\n",
      "  Building wheel for PyTweening (setup.py): started\n",
      "  Building wheel for PyTweening (setup.py): finished with status 'done'\n",
      "  Created wheel for PyTweening: filename=PyTweening-1.0.3-py3-none-any.whl size=3820 sha256=b21e6999402dd66d8aa6668c9dfa8eff93c7c73d46d8739f3d027ccabe2df30d\n",
      "  Stored in directory: c:\\users\\tech\\appdata\\local\\pip\\cache\\wheels\\e7\\50\\20\\790fbd95739abfdf0348bef99d5cc0c7c2930a19a91f602ddc\n",
      "  Building wheel for pyscreeze (PEP 517): started\n",
      "  Building wheel for pyscreeze (PEP 517): finished with status 'done'\n",
      "  Created wheel for pyscreeze: filename=PyScreeze-0.1.27-py3-none-any.whl size=12891 sha256=07df933fe9e4ac15727c3cf563dab9d5fa15b17462463024d80405174f2f9f22\n",
      "  Stored in directory: c:\\users\\tech\\appdata\\local\\pip\\cache\\wheels\\f7\\91\\eb\\c0fa176c095c77460a579ef339f24a377474b041e5543d1a00\n",
      "  Building wheel for pygetwindow (setup.py): started\n",
      "  Building wheel for pygetwindow (setup.py): finished with status 'done'\n",
      "  Created wheel for pygetwindow: filename=PyGetWindow-0.0.9-py3-none-any.whl size=11083 sha256=6207906abc261a6f2a6b5c26e54245f4648fa64a329c1e2df75eb1efca307273\n",
      "  Stored in directory: c:\\users\\tech\\appdata\\local\\pip\\cache\\wheels\\91\\e3\\04\\184bda98ec7f7d5f0ba1f372bcf7b3ba86325151ae1dd690fe\n",
      "  Building wheel for mouseinfo (setup.py): started\n",
      "  Building wheel for mouseinfo (setup.py): finished with status 'done'\n",
      "  Created wheel for mouseinfo: filename=MouseInfo-0.1.3-py3-none-any.whl size=10910 sha256=6292bb2bfb4656138ac555d41ab1b446d34e4df70c8a532657fb8d9c1bfdfb3c\n",
      "  Stored in directory: c:\\users\\tech\\appdata\\local\\pip\\cache\\wheels\\d1\\72\\fb\\35f403de66285df8ecca7049bcc61bfb57aba0f76d1f08f7eb\n",
      "  Building wheel for pyrect (setup.py): started\n",
      "  Building wheel for pyrect (setup.py): finished with status 'done'\n",
      "  Created wheel for pyrect: filename=PyRect-0.1.4-py2.py3-none-any.whl size=9552 sha256=322a99f1db1464652e85fd612d2a30fb10b374945017247685f0e5ad04fbd0a8\n",
      "  Stored in directory: c:\\users\\tech\\appdata\\local\\pip\\cache\\wheels\\d1\\e4\\47\\c62f8291b16b6df7e89ac885881ff71f35ca04c6e384251de9\n",
      "  Building wheel for pyperclip (setup.py): started\n",
      "  Building wheel for pyperclip (setup.py): finished with status 'done'\n",
      "  Created wheel for pyperclip: filename=pyperclip-1.8.2-py3-none-any.whl size=11113 sha256=7d4585dc660e3e1f732baf52ce66c9196563089d9c4268da4ac1abae8ab85044\n",
      "  Stored in directory: c:\\users\\tech\\appdata\\local\\pip\\cache\\wheels\\7f\\1a\\65\\84ff8c386bec21fca6d220ea1f5498a0367883a78dd5ba6122\n",
      "Successfully built pyautogui wikipedia pymsgbox PyTweening pyscreeze pygetwindow mouseinfo pyrect pyperclip\n",
      "Installing collected packages: pymsgbox, PyTweening, pyscreeze, pyrect, pygetwindow, pyperclip, mouseinfo, pyautogui, wikipedia, pywhatkit\n",
      "Successfully installed PyTweening-1.0.3 mouseinfo-0.1.3 pyautogui-0.9.53 pygetwindow-0.0.9 pymsgbox-1.0.9 pyperclip-1.8.2 pyrect-0.1.4 pyscreeze-0.1.27 pywhatkit-5.0 wikipedia-1.4.0\n"
     ]
    }
   ],
   "source": [
    "!pip install pywhatkit"
   ]
  },
  {
   "cell_type": "code",
   "execution_count": 1,
   "metadata": {},
   "outputs": [],
   "source": [
    "import pywhatkit as kt"
   ]
  },
  {
   "cell_type": "code",
   "execution_count": 2,
   "metadata": {},
   "outputs": [],
   "source": [
    "#sending messages to a group \n",
    "p_num = '\"FxJf5gPWQFt8So9mxiXkXx\"'     #group id\n",
    "msg = 'Hello Everyone!!!'"
   ]
  },
  {
   "cell_type": "code",
   "execution_count": 3,
   "metadata": {},
   "outputs": [
    {
     "name": "stdout",
     "output_type": "stream",
     "text": [
      "In 48 seconds web.whatsapp.com will open and after 5 seconds message will be delivered\n"
     ]
    }
   ],
   "source": [
    "kt.sendwhatmsg(p_num, msg, 18, 40, 5)"
   ]
  },
  {
   "cell_type": "code",
   "execution_count": 7,
   "metadata": {},
   "outputs": [
    {
     "name": "stdout",
     "output_type": "stream",
     "text": [
      "In 42 seconds web.whatsapp.com will open and after 10 seconds message will be delivered\n"
     ]
    }
   ],
   "source": [
    "kt.sendwhatmsg_to_group(\"FxJf5gPWQFt8So9mxiXkXx\", \"Hello Everyone\", 18, 51, 10)"
   ]
  },
  {
   "cell_type": "code",
   "execution_count": 8,
   "metadata": {},
   "outputs": [],
   "source": [
    "#sending messages to a specific person\n",
    "p_num = '\"+91 93468 84850\"'\n",
    "msg = \"Have a nice Day ❁´◡`❁ \""
   ]
  },
  {
   "cell_type": "code",
   "execution_count": 9,
   "metadata": {},
   "outputs": [
    {
     "name": "stdout",
     "output_type": "stream",
     "text": [
      "In 44 seconds web.whatsapp.com will open and after 15 seconds message will be delivered\n"
     ]
    }
   ],
   "source": [
    "#sending message\n",
    "kt.sendwhatmsg(p_num, msg, 11, 17, 15)"
   ]
  }
 ],
 "metadata": {
  "kernelspec": {
   "display_name": "Python 3",
   "language": "python",
   "name": "python3"
  },
  "language_info": {
   "codemirror_mode": {
    "name": "ipython",
    "version": 3
   },
   "file_extension": ".py",
   "mimetype": "text/x-python",
   "name": "python",
   "nbconvert_exporter": "python",
   "pygments_lexer": "ipython3",
   "version": "3.8.3"
  }
 },
 "nbformat": 4,
 "nbformat_minor": 4
}
